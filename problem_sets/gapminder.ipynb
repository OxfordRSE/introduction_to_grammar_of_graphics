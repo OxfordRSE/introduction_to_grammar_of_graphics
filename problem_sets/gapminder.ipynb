{
 "cells": [
  {
   "cell_type": "markdown",
   "metadata": {},
   "source": [
    "# Using grammar of graphics approaches to visualise Gapminder data\n",
    "\n",
    "In this problem set, we are going to visualise a dataset from Gapminder, which contains data on life expectancy, GDP per capita and population by country. For more information, see http://www.gapminder.org/data/."
   ]
  },
  {
   "cell_type": "markdown",
   "metadata": {},
   "source": [
    "Load the `gapminder.csv` data using pandas."
   ]
  },
  {
   "cell_type": "markdown",
   "metadata": {},
   "source": [
    "Examine the first 10 rows of your dataset."
   ]
  },
  {
   "cell_type": "markdown",
   "metadata": {},
   "source": [
    "Using Matplotlib, plot life expectancy over time for the United Kingdom."
   ]
  },
  {
   "cell_type": "markdown",
   "metadata": {},
   "source": [
    "Again, using Matplotlib, overlay on the same plot, life expectancy plots for the UK and Burkina Faso. Add a legend which indicates which plot corresponds to which country."
   ]
  },
  {
   "cell_type": "markdown",
   "metadata": {},
   "source": [
    "Now, we are going to use `plotnine`'s `ggplot` function to produce the same plot: life expectancy over time for both the UK and Burkina Faso. First create a data frame that keeps only those rows for the UK and Burkina Faso."
   ]
  },
  {
   "cell_type": "markdown",
   "metadata": {},
   "source": [
    "Next run the following code to plot the life expectancies over time:\n",
    "\n",
    "`(ggplot(df_uk_bf, aes(x='year', y='lifeExp', colour='country')) +\n",
    "geom_line())`"
   ]
  },
  {
   "cell_type": "markdown",
   "metadata": {},
   "source": [
    "Now change `geom_line` to `geom_point` and examine how that changes the plot."
   ]
  },
  {
   "cell_type": "markdown",
   "metadata": {},
   "source": [
    "We can also layer geoms. Now add back in `+ geom_line()` in addition to `geom_point()`. What does this plot look like?"
   ]
  },
  {
   "cell_type": "markdown",
   "metadata": {},
   "source": [
    "Suppose we want to add linear regression lines to data from each country. We can do this by adding `+ geom_smooth(method=\"lm\")` to the end of our plot command."
   ]
  },
  {
   "cell_type": "markdown",
   "metadata": {},
   "source": [
    "We can remove the uncertainty intervals from the plots by changing `+ geom_smooth(method=\"lm\")` to `+ geom_smooth(method=\"lm\", se=False)`. Try this."
   ]
  },
  {
   "cell_type": "markdown",
   "metadata": {},
   "source": [
    "Suppose instead of plotting two regression lines, we want a single regression line representing the trends across both countries. To do this, we can run the following code:\n",
    "\n",
    "`(ggplot(df_uk_bf, aes(x='year', y='lifeExp')) +\n",
    "geom_point(aes(colour='country')) +\n",
    "geom_smooth(method=\"lm\", se=False))`"
   ]
  },
  {
   "cell_type": "markdown",
   "metadata": {},
   "source": [
    "Why has the above plotted a single regression line?"
   ]
  },
  {
   "cell_type": "markdown",
   "metadata": {},
   "source": [
    "It's because whilst we use a colour aesthetic, the colour aesthetic is used only by `geom_point` and not inherited by `geom_smooth`. Whereas in the former case the colour `aesthetic` is stated in the `ggplot` section which means it is inherited by downstream geoms, including `geom_smooth` meaning it creates two regression lines — one for each colour."
   ]
  },
  {
   "cell_type": "markdown",
   "metadata": {},
   "source": [
    "Now use to `ggplot` to create a similar plot except plotting all countries in the Americas."
   ]
  },
  {
   "cell_type": "markdown",
   "metadata": {},
   "source": [
    "We can also change our straight regression line into a curvy line using a locally weighted regression (known as a `loess` line). To do this, change from:\n",
    "\n",
    "`geom_smooth(method=\"lm\", se=False)` to `geom_smooth()`\n",
    "\n",
    "Try this."
   ]
  },
  {
   "cell_type": "markdown",
   "metadata": {},
   "source": [
    "We can also use `ggplot` to plot life expectancy over time for each continent in a given panel. To do so, run the following code:\n",
    "\n",
    "`(ggplot(df, aes(x='year', y='lifeExp')) +\n",
    "geom_point() +\n",
    "facet_wrap('continent'))`"
   ]
  },
  {
   "cell_type": "markdown",
   "metadata": {},
   "source": [
    "Add a loess regression line to each of the panels above. Colour all of the regression lines orange."
   ]
  },
  {
   "cell_type": "markdown",
   "metadata": {},
   "source": [
    "## Open ended question"
   ]
  },
  {
   "cell_type": "markdown",
   "metadata": {},
   "source": [
    "Using visualisations, assess the following statement:\n",
    "\n",
    "\"Increases in gdp per capita are associated with increases in life expectancy.\""
   ]
  }
 ],
 "metadata": {
  "kernelspec": {
   "display_name": "Python 3",
   "language": "python",
   "name": "python3"
  },
  "language_info": {
   "codemirror_mode": {
    "name": "ipython",
    "version": 3
   },
   "file_extension": ".py",
   "mimetype": "text/x-python",
   "name": "python",
   "nbconvert_exporter": "python",
   "pygments_lexer": "ipython3",
   "version": "3.7.7"
  }
 },
 "nbformat": 4,
 "nbformat_minor": 4
}
